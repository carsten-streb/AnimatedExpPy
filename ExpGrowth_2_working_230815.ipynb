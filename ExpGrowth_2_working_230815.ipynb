{
 "cells": [
  {
   "cell_type": "markdown",
   "id": "7bb63f4e",
   "metadata": {},
   "source": [
    "### Animated exponential growth built based on these scripts:\n",
    "### http://louistiao.me/posts/notebooks/save-matplotlib-animations-as-gifs/\n",
    "### https://www.supplychaindataanalytics.com/basic-animations-with-matplotlib-in-python/\n",
    "### Thanks to the authors"
   ]
  },
  {
   "cell_type": "code",
   "execution_count": 19,
   "id": "1931147c",
   "metadata": {},
   "outputs": [],
   "source": [
    "%matplotlib qt"
   ]
  },
  {
   "cell_type": "code",
   "execution_count": 20,
   "id": "944bcf61",
   "metadata": {},
   "outputs": [],
   "source": [
    "import numpy as np\n",
    "import matplotlib.pyplot as plt\n",
    "\n",
    "from matplotlib import animation, rc\n",
    "# from IPython.display import HTML, Image"
   ]
  },
  {
   "cell_type": "code",
   "execution_count": 21,
   "id": "37f2f62a",
   "metadata": {},
   "outputs": [
    {
     "data": {
      "text/plain": [
       "Text(0.5, 1.0, 'Exponential Growth')"
      ]
     },
     "execution_count": 21,
     "metadata": {},
     "output_type": "execute_result"
    }
   ],
   "source": [
    "# Set up the figure, the axis, and the plot elements to be animated\n",
    "fig, ax = plt.subplots()\n",
    "\n",
    "ax.set_xlim(( 0, 130))\n",
    "ax.set_ylim((0, 350))\n",
    "\n",
    "line, = ax.plot([], [], lw=3, color = 'red')\n",
    "# set axis labels\n",
    "ax.set_xlabel(\"Time\", \n",
    "              fontsize = 14)\n",
    "ax.set_ylabel(\"y-value\", \n",
    "              fontsize = 14)\n",
    "\n",
    "# set title\n",
    "ax.set_title(\"Exponential Growth\",\n",
    "            fontsize = 14)"
   ]
  },
  {
   "cell_type": "code",
   "execution_count": 22,
   "id": "09f03fb4",
   "metadata": {},
   "outputs": [],
   "source": [
    "# initialization function: plot the background of each frame\n",
    "def init():\n",
    "    line.set_data([], [])\n",
    "    return (line,)"
   ]
  },
  {
   "cell_type": "code",
   "execution_count": 23,
   "id": "194c58dd",
   "metadata": {},
   "outputs": [],
   "source": [
    "# creating x and y coordinate data lists\n",
    "x = []\n",
    "y = []\n",
    "# define an animation function\n",
    "def animate(i):\n",
    "    # set x and y values\n",
    "    x.append(i)\n",
    "    y.append(1.05**i)\n",
    "    # update line plot\n",
    "    line.set_xdata(x)\n",
    "    line.set_ydata(y)\n",
    "    # return line object\n",
    "    return line,"
   ]
  },
  {
   "cell_type": "code",
   "execution_count": 24,
   "id": "4502b7d6",
   "metadata": {},
   "outputs": [],
   "source": [
    "# call the animator. blit=True means only re-draw the parts that \n",
    "# have changed.\n",
    "anim = animation.FuncAnimation(fig, animate, init_func=init,\n",
    "                               frames=130, interval=5, blit=True)"
   ]
  },
  {
   "cell_type": "code",
   "execution_count": 25,
   "id": "74caacd2",
   "metadata": {},
   "outputs": [
    {
     "data": {
      "text/plain": [
       "<matplotlib.animation.FuncAnimation at 0x18707c70c10>"
      ]
     },
     "execution_count": 25,
     "metadata": {},
     "output_type": "execute_result"
    }
   ],
   "source": [
    "anim"
   ]
  },
  {
   "cell_type": "code",
   "execution_count": 26,
   "id": "504c005f",
   "metadata": {},
   "outputs": [],
   "source": [
    "anim.save('D:/animation.gif', writer='pillow', fps=20)"
   ]
  },
  {
   "cell_type": "code",
   "execution_count": null,
   "id": "2eb88f73",
   "metadata": {},
   "outputs": [],
   "source": []
  },
  {
   "cell_type": "code",
   "execution_count": null,
   "id": "907837de",
   "metadata": {},
   "outputs": [],
   "source": []
  }
 ],
 "metadata": {
  "kernelspec": {
   "display_name": "Python 3 (ipykernel)",
   "language": "python",
   "name": "python3"
  },
  "language_info": {
   "codemirror_mode": {
    "name": "ipython",
    "version": 3
   },
   "file_extension": ".py",
   "mimetype": "text/x-python",
   "name": "python",
   "nbconvert_exporter": "python",
   "pygments_lexer": "ipython3",
   "version": "3.9.13"
  }
 },
 "nbformat": 4,
 "nbformat_minor": 5
}
